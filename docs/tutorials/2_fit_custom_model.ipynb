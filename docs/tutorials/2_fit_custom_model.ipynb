{
 "cells": [
  {
   "cell_type": "markdown",
   "id": "5855128d-8cc3-462e-9c23-eb33e79a97d3",
   "metadata": {},
   "source": [
    "# Fitting SEDs with a Custom Model\n",
    "\n",
    "This tutorial will walk you through customizing the B5 model and fitting data with it."
   ]
  },
  {
   "cell_type": "code",
   "execution_count": null,
   "id": "fb0800c1-438e-4956-a3fc-84d3611a5024",
   "metadata": {},
   "outputs": [],
   "source": []
  }
 ],
 "metadata": {
  "kernelspec": {
   "display_name": "Python 3 (ipykernel)",
   "language": "python",
   "name": "python3"
  },
  "language_info": {
   "codemirror_mode": {
    "name": "ipython",
    "version": 3
   },
   "file_extension": ".py",
   "mimetype": "text/x-python",
   "name": "python",
   "nbconvert_exporter": "python",
   "pygments_lexer": "ipython3",
   "version": "3.11.4"
  }
 },
 "nbformat": 4,
 "nbformat_minor": 5
}
